


# Imports
import math
import sys, os
import matplotlib.pyplot as plt
import numpy as np
import pandas as pd
import watermark 
import seaborn as sns
import warnings
warnings.filterwarnings("ignore") 


sys.path.append(os.path.abspath(os.path.join('Modulos')))
from estrategia1 import *
from estrategia2 import *
from estrategia3 import *


!pip install -q xlrd


!pip install -q unidecode






# Importando Arquivo e carregando dados
df = pd.read_excel("dados/Query1.xlsx")



from unidecode import unidecode

df.columns = [unidecode(col).replace(" ", "_") for col in df.columns]



df.shape


df.head()


df.info()


# We have null values ? nos temos valores ausentes no data . verdadeiro ou falso para valores ausentes 
df.isna().any()


# Sum null values " soma valores ausentes' 
df.isna().sum()









# Iremos remover a coluna ID pois se trata de um identificação pouco importante 
  # Drop deleta coluna "CUSTOMER-ID" axis eixo 1 inplace = a imputar exclucão no date set!  
# Remover as colunas corretamente com os nomes ajustados
df.drop(["Observacao_Gestor", "Detalhes_para_aprovacao:", "Link_dos_documentos_da_negociacao", "ID"], axis=1, inplace=True)



# Sum null values " soma valores ausentes' 
df.isna().sum()





print(df.columns)


df.Numero_SIENGE.isnull().sum()


df.Numero_SIENGE.isnull().mean()*100


# Substitui valores NaN por 0 para evitar erro ao converter para int
df["Numero_SIENGE"] = df["Numero_SIENGE"].fillna(0)

# Converte a coluna para inteiro (removendo decimais)
df["Numero_SIENGE"] = df["Numero_SIENGE"].astype(int)

# Converte a coluna para string
df["Numero_SIENGE"] = df["Numero_SIENGE"].astype(str)

# Exibe as primeiras 40 linhas da coluna
#print(df["Numero_SIENGE"].head(40))


# Porcentagem de valores ausentes na coluna Numero sienge valores foram subistiuidos por 0
df.Numero_SIENGE.isnull().mean()*100


df.head()


df['Gestor_Responsavel'].value_counts().head(50)



df_gestores = df['Gestor_Responsavel'].value_counts().reset_index()
df_gestores.columns = ['Gestor_Responsavel', 'Quantidade']


import matplotlib.pyplot as plt
import numpy as np

# Criar DataFrame com contagem dos gestores
df_gestores = df['Gestor_Responsavel'].value_counts().reset_index()
df_gestores.columns = ['Gestor_Responsavel', 'Quantidade']

# Gerar uma lista de cores para cada barra
colors = plt.cm.get_cmap("tab20", len(df_gestores))  # Usando uma paleta de 20 cores

# Criar gráfico de barras
plt.figure(figsize=(12, 6))
bars = plt.bar(df_gestores['Gestor_Responsavel'], df_gestores['Quantidade'], color=colors(range(len(df_gestores))))

# Adicionar linha da mediana
plt.axhline(y=mediana, color='red', linestyle='--', label=f'Mediana: {mediana}')


# Ajustar rótulos
plt.xticks(rotation=45, ha='right')
plt.ylabel('Frequência')
plt.title('Quantidade de Ocorrências por Gestor Responsável')

# Adicionar legenda
plt.legend()

# Mostrar gráfico
plt.show()



df_copia = df.copy()


# Primeiro, garantir que as colunas de valores estejam no formato numérico
df['Valor_final_negociado'] = pd.to_numeric(df['Valor_final_negociado'], errors='coerce')
df['Valor_final_Inicial_de_Cotacao'] = pd.to_numeric(df['Valor_Inicial_de_Cotacao'], errors='coerce')

# Agrupar pelos gestores e somar os valores
df_agrupado = df.groupby('Gestor_Responsavel')[['Valor_final_Inicial_de_Cotacao', 'Valor_final_negociado']].sum().reset_index()

# Se necessário, reformatar as colunas após o agrupamento
df_agrupado['Valor_final_negociado_formatado'] = df_agrupado['Valor_final_negociado'].apply(lambda x: f'{x:,.2f}')
df_agrupado['Valor_final_Inicial_de_Cotacao_formatado'] = df_agrupado['Valor_final_Inicial_de_Cotacao'].apply(lambda x: f'{x:,.2f}')

# Remover as colunas originais sem formatação
df_agrupado.drop(columns=['Valor_final_negociado', 'Valor_final_Inicial_de_Cotacao'], inplace=True)







import matplotlib.pyplot as plt
import numpy as np

# Ordenar os dados para o gráfico (você pode escolher a ordem desejada)
df_agrupado_sorted = df_agrupado.sort_values(by='Valor_final_negociado_formatado')

# Definir largura das barras
bar_width = 0.35

# Definir a posição das barras
index = np.arange(len(df_agrupado_sorted))

# Criar o gráfico de barras agrupadas
plt.figure(figsize=(12, 6))
plt.bar(index, df_agrupado_sorted['Valor_final_negociado_formatado'], bar_width, label='Valor Final Negociado', color='b')
plt.bar(index + bar_width, df_agrupado_sorted['Valor_final_Inicial_de_Cotacao_formatado'], bar_width, label='Valor Final Cotação Inicial', color='g')

# Adicionar título e rótulos
plt.title('Comparação entre Valor Final Negociado e Valor Final Cotação Inicial por Gestor')
plt.xlabel('Gestor Responsável')
plt.ylabel('Valor (R$)')
plt.xticks(index + bar_width / 2, df_agrupado_sorted['Gestor_Responsavel'], rotation=90)
plt.legend()

# Exibir o gráfico
plt.tight_layout()
plt.show()



print(df_agrupado_sorted[['Proficiencia', 'Diferença']].isna().sum())




# Média e Mediana de 'Valor_final_negociado' e 'Valor_final_Inicial_de_Cotacao'
media_negociado = df_agrupado['Valor_final_negociado_formatado'].mean()
mediana_negociado = df_agrupado['Valor_final_negociado_formatado'].median()

media_inicial_cotacao = df_agrupado['Valor_final_Inicial_de_Cotacao_formatado'].mean()
mediana_inicial_cotacao = df_agrupado['Valor_final_Inicial_de_Cotacao_formatado'].median()

print(f'Média Valor Negociado: {media_negociado}')
print(f'Mediana Valor Negociado: {mediana_negociado}')
print(f'Média Valor Inicial de Cotação: {media_inicial_cotacao}')
print(f'Mediana Valor Inicial de Cotação: {mediana_inicial_cotacao}')




