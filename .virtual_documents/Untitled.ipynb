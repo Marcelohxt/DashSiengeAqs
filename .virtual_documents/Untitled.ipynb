


# Imports
import math
import sys, os
import matplotlib.pyplot as plt
import numpy as np
import pandas as pd
import watermark 
import seaborn as sns
import warnings
warnings.filterwarnings("ignore") 


sys.path.append(os.path.abspath(os.path.join('Modulos')))
from estrategia1 import *
from estrategia2 import *
from estrategia3 import *


!pip install -q xlrd


!pip install -q unidecode






# Importando Arquivo e carregando dados
df = pd.read_excel("dados/Query1.xlsx")



from unidecode import unidecode

df.columns = [unidecode(col).replace(" ", "_") for col in df.columns]



df.shape


df.head()


df.info()


# We have null values ? nos temos valores ausentes no data . verdadeiro ou falso para valores ausentes 
df.isna().any()


# Sum null values " soma valores ausentes' 
df.isna().sum()









# Iremos remover a coluna ID pois se trata de um identificação pouco importante 
  # Drop deleta coluna "CUSTOMER-ID" axis eixo 1 inplace = a imputar exclucão no date set!  
# df.drop(["Observação Gestor","Detalhes para aprovação:","Link dos documentos da negociação","ID"], axis = 1, inplace = True)


# Sum null values " soma valores ausentes' 
df.isna().sum()





print(df.columns)


df.Numero_SIENGE.isnull().sum()


df.Numero_SIENGE.isnull().mean()*100


# Substitui valores NaN por 0 para evitar erro ao converter para int
df["Numero_SIENGE"] = df["Numero_SIENGE"].fillna(0)

# Converte a coluna para inteiro (removendo decimais)
df["Numero_SIENGE"] = df["Numero_SIENGE"].astype(int)

# Converte a coluna para string
df["Numero_SIENGE"] = df["Numero_SIENGE"].astype(str)

# Exibe as primeiras 40 linhas da coluna
#print(df["Numero_SIENGE"].head(40))


df.Numero_SIENGE.isnull().mean()*100


df.Numero_SIENGE.isna().sum()



