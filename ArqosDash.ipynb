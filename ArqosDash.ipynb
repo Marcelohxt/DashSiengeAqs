{
 "cells": [
  {
   "cell_type": "markdown",
   "id": "8b4ee255-359b-493e-b27a-5f39b0c6664a",
   "metadata": {},
   "source": [
    "# <font color='Blue'>Análise de Dados com Linguagem Python</font>\n",
    "\n",
    "## <font color='blue'>Projeto Sienge Arqos</font>\n"
   ]
  },
  {
   "cell_type": "code",
   "execution_count": 2,
   "id": "c30e02de-3dc2-4e2b-a5fc-33197422042f",
   "metadata": {},
   "outputs": [],
   "source": [
    "# Imports\n",
    "import math\n",
    "import sys, os\n",
    "import matplotlib.pyplot as plt\n",
    "import numpy as np\n",
    "import pandas as pd\n",
    "import watermark \n",
    "import seaborn as sns\n",
    "import warnings\n",
    "warnings.filterwarnings(\"ignore\") "
   ]
  },
  {
   "cell_type": "code",
   "execution_count": 3,
   "id": "e5c40aea-3b0f-431b-b93a-e33b4d2ddb09",
   "metadata": {},
   "outputs": [],
   "source": [
    "sys.path.append(os.path.abspath(os.path.join('Modulos')))\n",
    "from estrategia1 import *\n",
    "from estrategia2 import *\n",
    "from estrategia3 import *"
   ]
  },
  {
   "cell_type": "code",
   "execution_count": 4,
   "id": "27fa4bac-8748-46b5-a5ee-f95f4d75ceb6",
   "metadata": {},
   "outputs": [],
   "source": [
    "!pip install -q xlrd"
   ]
  },
  {
   "cell_type": "code",
   "execution_count": 5,
   "id": "3070561a-4e7f-4ad2-a4a0-44ec90558365",
   "metadata": {},
   "outputs": [],
   "source": [
    "#!pip install -q unidecode\n",
    "!pip install -q dash-bootstrap-components\n"
   ]
  },
  {
   "cell_type": "markdown",
   "id": "a6281d06-dfde-4e9b-a0ff-9138e51fa14e",
   "metadata": {},
   "source": [
    "## Carregando os Dados\n"
   ]
  },
  {
   "cell_type": "code",
   "execution_count": 35,
   "id": "b84ac913-9468-4bf4-85e2-1a9da5cb5076",
   "metadata": {},
   "outputs": [],
   "source": [
    "# Importando Arquivo e carregando dados\n",
    "df = pd.read_csv(\"dados/df_agrupado.csv\")\n"
   ]
  },
  {
   "cell_type": "code",
   "execution_count": 37,
   "id": "58b36349-87bc-48b7-b757-279f62df72c0",
   "metadata": {},
   "outputs": [
    {
     "ename": "ModuleNotFoundError",
     "evalue": "No module named 'unidecode'",
     "output_type": "error",
     "traceback": [
      "\u001b[1;31m---------------------------------------------------------------------------\u001b[0m",
      "\u001b[1;31mModuleNotFoundError\u001b[0m                       Traceback (most recent call last)",
      "Cell \u001b[1;32mIn[37], line 1\u001b[0m\n\u001b[1;32m----> 1\u001b[0m \u001b[38;5;28;01mfrom\u001b[39;00m \u001b[38;5;21;01munidecode\u001b[39;00m \u001b[38;5;28;01mimport\u001b[39;00m unidecode\n\u001b[0;32m      3\u001b[0m df\u001b[38;5;241m.\u001b[39mcolumns \u001b[38;5;241m=\u001b[39m [unidecode(col)\u001b[38;5;241m.\u001b[39mreplace(\u001b[38;5;124m\"\u001b[39m\u001b[38;5;124m \u001b[39m\u001b[38;5;124m\"\u001b[39m, \u001b[38;5;124m\"\u001b[39m\u001b[38;5;124m_\u001b[39m\u001b[38;5;124m\"\u001b[39m) \u001b[38;5;28;01mfor\u001b[39;00m col \u001b[38;5;129;01min\u001b[39;00m df\u001b[38;5;241m.\u001b[39mcolumns]\n",
      "\u001b[1;31mModuleNotFoundError\u001b[0m: No module named 'unidecode'"
     ]
    }
   ],
   "source": [
    "from unidecode import unidecode\n",
    "\n",
    "df.columns = [unidecode(col).replace(\" \", \"_\") for col in df.columns]\n"
   ]
  },
  {
   "cell_type": "code",
   "execution_count": 39,
   "id": "7872795f-9331-460f-86c2-cd0048f2012a",
   "metadata": {},
   "outputs": [
    {
     "data": {
      "text/plain": [
       "(14, 3)"
      ]
     },
     "execution_count": 39,
     "metadata": {},
     "output_type": "execute_result"
    }
   ],
   "source": [
    "df.shape"
   ]
  },
  {
   "cell_type": "code",
   "execution_count": 45,
   "id": "baa231ce-25a4-4b9c-8157-38e794b5b802",
   "metadata": {},
   "outputs": [
    {
     "data": {
      "text/html": [
       "<div>\n",
       "<style scoped>\n",
       "    .dataframe tbody tr th:only-of-type {\n",
       "        vertical-align: middle;\n",
       "    }\n",
       "\n",
       "    .dataframe tbody tr th {\n",
       "        vertical-align: top;\n",
       "    }\n",
       "\n",
       "    .dataframe thead th {\n",
       "        text-align: right;\n",
       "    }\n",
       "</style>\n",
       "<table border=\"1\" class=\"dataframe\">\n",
       "  <thead>\n",
       "    <tr style=\"text-align: right;\">\n",
       "      <th></th>\n",
       "      <th>Gestor_Responsavel</th>\n",
       "      <th>Valor_final_negociado_formatado</th>\n",
       "      <th>Valor_final_Inicial_de_Cotacao_formatado</th>\n",
       "    </tr>\n",
       "  </thead>\n",
       "  <tbody>\n",
       "    <tr>\n",
       "      <th>0</th>\n",
       "      <td>Ana Paula Minomo</td>\n",
       "      <td>7,273,863.00</td>\n",
       "      <td>3,949,545.00</td>\n",
       "    </tr>\n",
       "    <tr>\n",
       "      <th>1</th>\n",
       "      <td>Bruno Tucci</td>\n",
       "      <td>1,246,434.00</td>\n",
       "      <td>337,535.00</td>\n",
       "    </tr>\n",
       "    <tr>\n",
       "      <th>2</th>\n",
       "      <td>Eduardo  Simas (Shared)</td>\n",
       "      <td>3,201,890.00</td>\n",
       "      <td>801,314.00</td>\n",
       "    </tr>\n",
       "    <tr>\n",
       "      <th>3</th>\n",
       "      <td>Felipe Chukr</td>\n",
       "      <td>470,782.00</td>\n",
       "      <td>9,716.00</td>\n",
       "    </tr>\n",
       "    <tr>\n",
       "      <th>4</th>\n",
       "      <td>Gustavo Nascimento</td>\n",
       "      <td>21,213,104.64</td>\n",
       "      <td>430,570.32</td>\n",
       "    </tr>\n",
       "    <tr>\n",
       "      <th>5</th>\n",
       "      <td>Karen Alves</td>\n",
       "      <td>1,274,303.00</td>\n",
       "      <td>487,609.00</td>\n",
       "    </tr>\n",
       "    <tr>\n",
       "      <th>6</th>\n",
       "      <td>Katia S.</td>\n",
       "      <td>936,444.00</td>\n",
       "      <td>0.00</td>\n",
       "    </tr>\n",
       "    <tr>\n",
       "      <th>7</th>\n",
       "      <td>Liliane Silva</td>\n",
       "      <td>3,952.80</td>\n",
       "      <td>3,952.80</td>\n",
       "    </tr>\n",
       "    <tr>\n",
       "      <th>8</th>\n",
       "      <td>Rafael Suda</td>\n",
       "      <td>122,614,004.97</td>\n",
       "      <td>29,115,518.00</td>\n",
       "    </tr>\n",
       "    <tr>\n",
       "      <th>9</th>\n",
       "      <td>Rayssa Olberg</td>\n",
       "      <td>1,099,061.00</td>\n",
       "      <td>3,529.00</td>\n",
       "    </tr>\n",
       "    <tr>\n",
       "      <th>10</th>\n",
       "      <td>Renata Vieira</td>\n",
       "      <td>13,070,701.37</td>\n",
       "      <td>7,494,215.37</td>\n",
       "    </tr>\n",
       "    <tr>\n",
       "      <th>11</th>\n",
       "      <td>Tiago Souza</td>\n",
       "      <td>1,043,374.20</td>\n",
       "      <td>1,043,374.20</td>\n",
       "    </tr>\n",
       "    <tr>\n",
       "      <th>12</th>\n",
       "      <td>Victoria Herendy</td>\n",
       "      <td>7,158,717.22</td>\n",
       "      <td>4,920,649.00</td>\n",
       "    </tr>\n",
       "    <tr>\n",
       "      <th>13</th>\n",
       "      <td>Werle Silva</td>\n",
       "      <td>23,467,351.34</td>\n",
       "      <td>21,283,271.18</td>\n",
       "    </tr>\n",
       "  </tbody>\n",
       "</table>\n",
       "</div>"
      ],
      "text/plain": [
       "         Gestor_Responsavel Valor_final_negociado_formatado  \\\n",
       "0          Ana Paula Minomo                    7,273,863.00   \n",
       "1               Bruno Tucci                    1,246,434.00   \n",
       "2   Eduardo  Simas (Shared)                    3,201,890.00   \n",
       "3              Felipe Chukr                      470,782.00   \n",
       "4        Gustavo Nascimento                   21,213,104.64   \n",
       "5               Karen Alves                    1,274,303.00   \n",
       "6                  Katia S.                      936,444.00   \n",
       "7             Liliane Silva                        3,952.80   \n",
       "8               Rafael Suda                  122,614,004.97   \n",
       "9             Rayssa Olberg                    1,099,061.00   \n",
       "10            Renata Vieira                   13,070,701.37   \n",
       "11              Tiago Souza                    1,043,374.20   \n",
       "12         Victoria Herendy                    7,158,717.22   \n",
       "13              Werle Silva                   23,467,351.34   \n",
       "\n",
       "   Valor_final_Inicial_de_Cotacao_formatado  \n",
       "0                              3,949,545.00  \n",
       "1                                337,535.00  \n",
       "2                                801,314.00  \n",
       "3                                  9,716.00  \n",
       "4                                430,570.32  \n",
       "5                                487,609.00  \n",
       "6                                      0.00  \n",
       "7                                  3,952.80  \n",
       "8                             29,115,518.00  \n",
       "9                                  3,529.00  \n",
       "10                             7,494,215.37  \n",
       "11                             1,043,374.20  \n",
       "12                             4,920,649.00  \n",
       "13                            21,283,271.18  "
      ]
     },
     "execution_count": 45,
     "metadata": {},
     "output_type": "execute_result"
    }
   ],
   "source": [
    "df.head(50)"
   ]
  },
  {
   "cell_type": "code",
   "execution_count": 43,
   "id": "cafadc71-290f-417f-b345-6667eddbd1d7",
   "metadata": {},
   "outputs": [
    {
     "name": "stdout",
     "output_type": "stream",
     "text": [
      "<class 'pandas.core.frame.DataFrame'>\n",
      "RangeIndex: 14 entries, 0 to 13\n",
      "Data columns (total 3 columns):\n",
      " #   Column                                    Non-Null Count  Dtype \n",
      "---  ------                                    --------------  ----- \n",
      " 0   Gestor_Responsavel                        14 non-null     object\n",
      " 1   Valor_final_negociado_formatado           14 non-null     object\n",
      " 2   Valor_final_Inicial_de_Cotacao_formatado  14 non-null     object\n",
      "dtypes: object(3)\n",
      "memory usage: 464.0+ bytes\n"
     ]
    }
   ],
   "source": [
    "df.info()"
   ]
  },
  {
   "cell_type": "code",
   "execution_count": 47,
   "id": "d4a04294-f5ea-49a4-8d51-5f0f918ad324",
   "metadata": {},
   "outputs": [
    {
     "data": {
      "text/plain": [
       "Gestor_Responsavel                          False\n",
       "Valor_final_negociado_formatado             False\n",
       "Valor_final_Inicial_de_Cotacao_formatado    False\n",
       "dtype: bool"
      ]
     },
     "execution_count": 47,
     "metadata": {},
     "output_type": "execute_result"
    }
   ],
   "source": [
    "# We have null values ? nos temos valores ausentes no data . verdadeiro ou falso para valores ausentes \n",
    "df.isna().any()"
   ]
  },
  {
   "cell_type": "code",
   "execution_count": 49,
   "id": "5ae358f9-5017-4935-8ab9-b859570b3478",
   "metadata": {},
   "outputs": [
    {
     "data": {
      "text/plain": [
       "Gestor_Responsavel                          0\n",
       "Valor_final_negociado_formatado             0\n",
       "Valor_final_Inicial_de_Cotacao_formatado    0\n",
       "dtype: int64"
      ]
     },
     "execution_count": 49,
     "metadata": {},
     "output_type": "execute_result"
    }
   ],
   "source": [
    "# Sum null values \" soma valores ausentes' \n",
    "df.isna().sum()\n"
   ]
  },
  {
   "cell_type": "markdown",
   "id": "1a67504d-ad14-4dc6-a5b8-bd737c232378",
   "metadata": {},
   "source": [
    "### Columns the Drop "
   ]
  },
  {
   "cell_type": "markdown",
   "id": "375572d4-6cc7-40fa-9ef0-5f598965f218",
   "metadata": {},
   "source": [
    "> Iremos remover a coluna ID , Observação gestor , Detalhes para aprovação ,Link do documento,Id \n",
    " > Segundo a dona dos dados tais informações não são relevantes Resp: Liliane Amanda!"
   ]
  },
  {
   "cell_type": "code",
   "execution_count": null,
   "id": "19323e8e-00d4-49e2-8cf3-f2cebeb925c7",
   "metadata": {},
   "outputs": [],
   "source": [
    "# Iremos remover a coluna ID pois se trata de um identificação pouco importante \n",
    "  # Drop deleta coluna \"CUSTOMER-ID\" axis eixo 1 inplace = a imputar exclucão no date set!  \n",
    "# Remover as colunas corretamente com os nomes ajustados\n",
    "df.drop([\"Observacao_Gestor\", \"Detalhes_para_aprovacao:\", \"Link_dos_documentos_da_negociacao\", \"ID\"], axis=1, inplace=True)\n"
   ]
  },
  {
   "cell_type": "code",
   "execution_count": null,
   "id": "8f4016ac-c648-4a60-9bf3-f339bb953f4e",
   "metadata": {},
   "outputs": [],
   "source": [
    "# Sum null values \" soma valores ausentes' \n",
    "df.isna().sum()"
   ]
  },
  {
   "cell_type": "markdown",
   "id": "96a5cd5a-9ebf-40b3-a03c-2041b63b8655",
   "metadata": {},
   "source": [
    "### Tratando Variavel Numero Sienge "
   ]
  },
  {
   "cell_type": "code",
   "execution_count": null,
   "id": "064b6ec6-ed42-414d-ba33-d3d7f2f02351",
   "metadata": {},
   "outputs": [],
   "source": [
    "print(df.columns)"
   ]
  },
  {
   "cell_type": "code",
   "execution_count": null,
   "id": "fec0421d-0408-4d33-8299-754179c3d3b2",
   "metadata": {},
   "outputs": [],
   "source": [
    "df.Numero_SIENGE.isnull().sum()"
   ]
  },
  {
   "cell_type": "code",
   "execution_count": null,
   "id": "5291ebc8-ef72-4028-b83d-a3f055143b55",
   "metadata": {},
   "outputs": [],
   "source": [
    "df.Numero_SIENGE.isnull().mean()*100"
   ]
  },
  {
   "cell_type": "code",
   "execution_count": null,
   "id": "50c68a79-2ccd-41f4-8d49-0ab1998ef328",
   "metadata": {},
   "outputs": [],
   "source": [
    "# Substitui valores NaN por 0 para evitar erro ao converter para int\n",
    "df[\"Numero_SIENGE\"] = df[\"Numero_SIENGE\"].fillna(0)\n",
    "\n",
    "# Converte a coluna para inteiro (removendo decimais)\n",
    "df[\"Numero_SIENGE\"] = df[\"Numero_SIENGE\"].astype(int)\n",
    "\n",
    "# Converte a coluna para string\n",
    "df[\"Numero_SIENGE\"] = df[\"Numero_SIENGE\"].astype(str)\n",
    "\n",
    "# Exibe as primeiras 40 linhas da coluna\n",
    "#print(df[\"Numero_SIENGE\"].head(40))"
   ]
  },
  {
   "cell_type": "code",
   "execution_count": null,
   "id": "04e8ef53-59e0-44bf-be88-b098a4e293b8",
   "metadata": {},
   "outputs": [],
   "source": [
    "# Porcentagem de valores ausentes na coluna Numero sienge valores foram subistiuidos por 0\n",
    "df.Numero_SIENGE.isnull().mean()*100"
   ]
  },
  {
   "cell_type": "code",
   "execution_count": null,
   "id": "ba7d8e33-1d5b-4b9f-9a8e-a3c1eaa111b6",
   "metadata": {},
   "outputs": [],
   "source": [
    "df.head()"
   ]
  },
  {
   "cell_type": "code",
   "execution_count": null,
   "id": "8c71dd9e-3e69-412e-b8db-3cae6037e62f",
   "metadata": {},
   "outputs": [],
   "source": [
    "df['Gestor_Responsavel'].value_counts().head(50)\n"
   ]
  },
  {
   "cell_type": "code",
   "execution_count": null,
   "id": "dd4a1f0d-f7ae-43e0-983d-35824a70432f",
   "metadata": {},
   "outputs": [],
   "source": [
    "df_gestores = df['Gestor_Responsavel'].value_counts().reset_index()\n",
    "df_gestores.columns = ['Gestor_Responsavel', 'Quantidade']"
   ]
  },
  {
   "cell_type": "code",
   "execution_count": null,
   "id": "9596c81c-ed00-4cd6-bcf1-95c7766df0f1",
   "metadata": {
    "jupyter": {
     "source_hidden": true
    }
   },
   "outputs": [],
   "source": [
    "import matplotlib.pyplot as plt\n",
    "import numpy as np\n",
    "\n",
    "# Criar DataFrame com contagem dos gestores\n",
    "df_gestores = df['Gestor_Responsavel'].value_counts().reset_index()\n",
    "df_gestores.columns = ['Gestor_Responsavel', 'Quantidade']\n",
    "\n",
    "# Gerar uma lista de cores para cada barra\n",
    "colors = plt.cm.get_cmap(\"tab20\", len(df_gestores))  # Usando uma paleta de 20 cores\n",
    "\n",
    "# Criar gráfico de barras\n",
    "plt.figure(figsize=(12, 6))\n",
    "bars = plt.bar(df_gestores['Gestor_Responsavel'], df_gestores['Quantidade'], color=colors(range(len(df_gestores))))\n",
    "\n",
    "# Adicionar linha da mediana\n",
    "plt.axhline(y=mediana, color='red', linestyle='--', label=f'Mediana: {mediana}')\n",
    "\n",
    "\n",
    "# Ajustar rótulos\n",
    "plt.xticks(rotation=45, ha='right')\n",
    "plt.ylabel('Frequência')\n",
    "plt.title('Quantidade de Ocorrências por Gestor Responsável')\n",
    "\n",
    "# Adicionar legenda\n",
    "plt.legend()\n",
    "\n",
    "# Mostrar gráfico\n",
    "plt.show()\n"
   ]
  },
  {
   "cell_type": "code",
   "execution_count": null,
   "id": "5bbc0964-7b88-49b5-a6e7-149fd1727a07",
   "metadata": {},
   "outputs": [],
   "source": [
    "df_copia = df.copy()"
   ]
  },
  {
   "cell_type": "code",
   "execution_count": null,
   "id": "a5efdc77-8c68-4592-a6cd-e29c3b7b0a7f",
   "metadata": {
    "jupyter": {
     "source_hidden": true
    }
   },
   "outputs": [],
   "source": [
    "# Primeiro, garantir que as colunas de valores estejam no formato numérico\n",
    "df['Valor_final_negociado'] = pd.to_numeric(df['Valor_final_negociado'], errors='coerce')\n",
    "df['Valor_final_Inicial_de_Cotacao'] = pd.to_numeric(df['Valor_Inicial_de_Cotacao'], errors='coerce')\n",
    "\n",
    "# Agrupar pelos gestores e somar os valores\n",
    "df_agrupado = df.groupby('Gestor_Responsavel')[['Valor_final_Inicial_de_Cotacao', 'Valor_final_negociado']].sum().reset_index()\n",
    "\n",
    "# Se necessário, reformatar as colunas após o agrupamento\n",
    "df_agrupado['Valor_final_negociado_formatado'] = df_agrupado['Valor_final_negociado'].apply(lambda x: f'{x:,.2f}')\n",
    "df_agrupado['Valor_final_Inicial_de_Cotacao_formatado'] = df_agrupado['Valor_final_Inicial_de_Cotacao'].apply(lambda x: f'{x:,.2f}')\n",
    "\n",
    "# Remover as colunas originais sem formatação\n",
    "df_agrupado.drop(columns=['Valor_final_negociado', 'Valor_final_Inicial_de_Cotacao'], inplace=True)\n",
    "\n"
   ]
  },
  {
   "cell_type": "markdown",
   "id": "8fcc8749-da58-4469-8e94-b387d8723da0",
   "metadata": {},
   "source": [
    "### Gerando Grafico de Linhas Para analizar!"
   ]
  },
  {
   "cell_type": "code",
   "execution_count": null,
   "id": "0a90120d-61ec-4e57-9984-68992133c54d",
   "metadata": {
    "jupyter": {
     "source_hidden": true
    }
   },
   "outputs": [],
   "source": [
    "import matplotlib.pyplot as plt\n",
    "import numpy as np\n",
    "\n",
    "# Ordenar os dados para o gráfico (você pode escolher a ordem desejada)\n",
    "df_agrupado_sorted = df_agrupado.sort_values(by='Valor_final_negociado_formatado')\n",
    "\n",
    "# Definir largura das barras\n",
    "bar_width = 0.35\n",
    "\n",
    "# Definir a posição das barras\n",
    "index = np.arange(len(df_agrupado_sorted))\n",
    "\n",
    "# Criar o gráfico de barras agrupadas\n",
    "plt.figure(figsize=(12, 6))\n",
    "plt.bar(index, df_agrupado_sorted['Valor_final_negociado_formatado'], bar_width, label='Valor Final Negociado', color='b')\n",
    "plt.bar(index + bar_width, df_agrupado_sorted['Valor_final_Inicial_de_Cotacao_formatado'], bar_width, label='Valor Final Cotação Inicial', color='g')\n",
    "\n",
    "# Adicionar título e rótulos\n",
    "plt.title('Comparação entre Valor Final Negociado e Valor Final Cotação Inicial por Gestor')\n",
    "plt.xlabel('Gestor Responsável')\n",
    "plt.ylabel('Valor (R$)')\n",
    "plt.xticks(index + bar_width / 2, df_agrupado_sorted['Gestor_Responsavel'], rotation=90)\n",
    "plt.legend()\n",
    "\n",
    "# Exibir o gráfico\n",
    "plt.tight_layout()\n",
    "plt.show()\n"
   ]
  },
  {
   "cell_type": "code",
   "execution_count": null,
   "id": "4e785392-2718-406e-b538-a0dd2c6a40f4",
   "metadata": {},
   "outputs": [],
   "source": [
    "print(df_agrupado_sorted[['Proficiencia', 'Diferença']].isna().sum())\n"
   ]
  },
  {
   "cell_type": "code",
   "execution_count": null,
   "id": "b48eea3c-692b-4f65-93b3-4ccc17616203",
   "metadata": {},
   "outputs": [],
   "source": [
    "\n",
    "#df_agrupado.to_csv('E:/ProgramacaoPhyton/DataScience02\\DashSiengeAqs/dados/df_agrupado.csv', index=False)\n"
   ]
  },
  {
   "cell_type": "code",
   "execution_count": null,
   "id": "c9d42792-3a95-4f6a-953d-ea679cf5603f",
   "metadata": {},
   "outputs": [],
   "source": []
  },
  {
   "cell_type": "code",
   "execution_count": null,
   "id": "1b1ce371-8cc5-4705-a59f-e4b7d0f8f0fe",
   "metadata": {},
   "outputs": [],
   "source": []
  }
 ],
 "metadata": {
  "kernelspec": {
   "display_name": "Python 3.8.8",
   "language": "python",
   "name": "py38"
  },
  "language_info": {
   "codemirror_mode": {
    "name": "ipython",
    "version": 3
   },
   "file_extension": ".py",
   "mimetype": "text/x-python",
   "name": "python",
   "nbconvert_exporter": "python",
   "pygments_lexer": "ipython3",
   "version": "3.8.20"
  }
 },
 "nbformat": 4,
 "nbformat_minor": 5
}
