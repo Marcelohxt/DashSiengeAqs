{
 "cells": [
  {
   "cell_type": "markdown",
   "id": "8b4ee255-359b-493e-b27a-5f39b0c6664a",
   "metadata": {},
   "source": [
    "# <font color='Blue'>Análise de Dados com Linguagem Python</font>\n",
    "\n",
    "## <font color='blue'>Projeto Sienge Arqos</font>\n"
   ]
  },
  {
   "cell_type": "code",
   "execution_count": 2,
   "id": "c30e02de-3dc2-4e2b-a5fc-33197422042f",
   "metadata": {},
   "outputs": [],
   "source": [
    "# Imports\n",
    "import math\n",
    "import sys, os\n",
    "import matplotlib.pyplot as plt\n",
    "import numpy as np\n",
    "import pandas as pd\n",
    "import watermark \n",
    "import seaborn as sns\n",
    "import warnings\n",
    "warnings.filterwarnings(\"ignore\") "
   ]
  },
  {
   "cell_type": "code",
   "execution_count": 3,
   "id": "e5c40aea-3b0f-431b-b93a-e33b4d2ddb09",
   "metadata": {},
   "outputs": [],
   "source": [
    "sys.path.append(os.path.abspath(os.path.join('Modulos')))\n",
    "from estrategia1 import *\n",
    "from estrategia2 import *\n",
    "from estrategia3 import *"
   ]
  },
  {
   "cell_type": "code",
   "execution_count": 4,
   "id": "27fa4bac-8748-46b5-a5ee-f95f4d75ceb6",
   "metadata": {},
   "outputs": [],
   "source": [
    "!pip install -q xlrd"
   ]
  },
  {
   "cell_type": "code",
   "execution_count": 5,
   "id": "3070561a-4e7f-4ad2-a4a0-44ec90558365",
   "metadata": {},
   "outputs": [],
   "source": [
    "#!pip install -q unidecode\n",
    "!pip install -q dash-bootstrap-components\n"
   ]
  },
  {
   "cell_type": "markdown",
   "id": "a6281d06-dfde-4e9b-a0ff-9138e51fa14e",
   "metadata": {},
   "source": [
    "## Carregando os Dados\n"
   ]
  },
  {
   "cell_type": "code",
   "execution_count": 7,
   "id": "b84ac913-9468-4bf4-85e2-1a9da5cb5076",
   "metadata": {},
   "outputs": [
    {
     "ename": "ValueError",
     "evalue": "Your version of xlrd is 2.0.1. In xlrd >= 2.0, only the xls format is supported. Install openpyxl instead.",
     "output_type": "error",
     "traceback": [
      "\u001b[1;31m---------------------------------------------------------------------------\u001b[0m",
      "\u001b[1;31mValueError\u001b[0m                                Traceback (most recent call last)",
      "Cell \u001b[1;32mIn[7], line 2\u001b[0m\n\u001b[0;32m      1\u001b[0m \u001b[38;5;66;03m# Importando Arquivo e carregando dados\u001b[39;00m\n\u001b[1;32m----> 2\u001b[0m df \u001b[38;5;241m=\u001b[39m \u001b[43mpd\u001b[49m\u001b[38;5;241;43m.\u001b[39;49m\u001b[43mread_excel\u001b[49m\u001b[43m(\u001b[49m\u001b[38;5;124;43m\"\u001b[39;49m\u001b[38;5;124;43mdados/Query1.xlsx\u001b[39;49m\u001b[38;5;124;43m\"\u001b[39;49m\u001b[43m)\u001b[49m\n",
      "File \u001b[1;32m~\\anaconda3\\envs\\py38\\lib\\site-packages\\pandas\\util\\_decorators.py:299\u001b[0m, in \u001b[0;36mdeprecate_nonkeyword_arguments.<locals>.decorate.<locals>.wrapper\u001b[1;34m(*args, **kwargs)\u001b[0m\n\u001b[0;32m    294\u001b[0m     msg \u001b[38;5;241m=\u001b[39m (\n\u001b[0;32m    295\u001b[0m         \u001b[38;5;124mf\u001b[39m\u001b[38;5;124m\"\u001b[39m\u001b[38;5;124mStarting with Pandas version \u001b[39m\u001b[38;5;132;01m{\u001b[39;00mversion\u001b[38;5;132;01m}\u001b[39;00m\u001b[38;5;124m all arguments of \u001b[39m\u001b[38;5;124m\"\u001b[39m\n\u001b[0;32m    296\u001b[0m         \u001b[38;5;124mf\u001b[39m\u001b[38;5;124m\"\u001b[39m\u001b[38;5;132;01m{\u001b[39;00mfunc\u001b[38;5;241m.\u001b[39m\u001b[38;5;18m__name__\u001b[39m\u001b[38;5;132;01m}\u001b[39;00m\u001b[38;5;132;01m{\u001b[39;00marguments\u001b[38;5;132;01m}\u001b[39;00m\u001b[38;5;124m will be keyword-only\u001b[39m\u001b[38;5;124m\"\u001b[39m\n\u001b[0;32m    297\u001b[0m     )\n\u001b[0;32m    298\u001b[0m     warnings\u001b[38;5;241m.\u001b[39mwarn(msg, \u001b[38;5;167;01mFutureWarning\u001b[39;00m, stacklevel\u001b[38;5;241m=\u001b[39mstacklevel)\n\u001b[1;32m--> 299\u001b[0m \u001b[38;5;28;01mreturn\u001b[39;00m \u001b[43mfunc\u001b[49m\u001b[43m(\u001b[49m\u001b[38;5;241;43m*\u001b[39;49m\u001b[43margs\u001b[49m\u001b[43m,\u001b[49m\u001b[43m \u001b[49m\u001b[38;5;241;43m*\u001b[39;49m\u001b[38;5;241;43m*\u001b[39;49m\u001b[43mkwargs\u001b[49m\u001b[43m)\u001b[49m\n",
      "File \u001b[1;32m~\\anaconda3\\envs\\py38\\lib\\site-packages\\pandas\\io\\excel\\_base.py:336\u001b[0m, in \u001b[0;36mread_excel\u001b[1;34m(io, sheet_name, header, names, index_col, usecols, squeeze, dtype, engine, converters, true_values, false_values, skiprows, nrows, na_values, keep_default_na, na_filter, verbose, parse_dates, date_parser, thousands, comment, skipfooter, convert_float, mangle_dupe_cols, storage_options)\u001b[0m\n\u001b[0;32m    334\u001b[0m \u001b[38;5;28;01mif\u001b[39;00m \u001b[38;5;129;01mnot\u001b[39;00m \u001b[38;5;28misinstance\u001b[39m(io, ExcelFile):\n\u001b[0;32m    335\u001b[0m     should_close \u001b[38;5;241m=\u001b[39m \u001b[38;5;28;01mTrue\u001b[39;00m\n\u001b[1;32m--> 336\u001b[0m     io \u001b[38;5;241m=\u001b[39m \u001b[43mExcelFile\u001b[49m\u001b[43m(\u001b[49m\u001b[43mio\u001b[49m\u001b[43m,\u001b[49m\u001b[43m \u001b[49m\u001b[43mstorage_options\u001b[49m\u001b[38;5;241;43m=\u001b[39;49m\u001b[43mstorage_options\u001b[49m\u001b[43m,\u001b[49m\u001b[43m \u001b[49m\u001b[43mengine\u001b[49m\u001b[38;5;241;43m=\u001b[39;49m\u001b[43mengine\u001b[49m\u001b[43m)\u001b[49m\n\u001b[0;32m    337\u001b[0m \u001b[38;5;28;01melif\u001b[39;00m engine \u001b[38;5;129;01mand\u001b[39;00m engine \u001b[38;5;241m!=\u001b[39m io\u001b[38;5;241m.\u001b[39mengine:\n\u001b[0;32m    338\u001b[0m     \u001b[38;5;28;01mraise\u001b[39;00m \u001b[38;5;167;01mValueError\u001b[39;00m(\n\u001b[0;32m    339\u001b[0m         \u001b[38;5;124m\"\u001b[39m\u001b[38;5;124mEngine should not be specified when passing \u001b[39m\u001b[38;5;124m\"\u001b[39m\n\u001b[0;32m    340\u001b[0m         \u001b[38;5;124m\"\u001b[39m\u001b[38;5;124man ExcelFile - ExcelFile already has the engine set\u001b[39m\u001b[38;5;124m\"\u001b[39m\n\u001b[0;32m    341\u001b[0m     )\n",
      "File \u001b[1;32m~\\anaconda3\\envs\\py38\\lib\\site-packages\\pandas\\io\\excel\\_base.py:1102\u001b[0m, in \u001b[0;36mExcelFile.__init__\u001b[1;34m(self, path_or_buffer, engine, storage_options)\u001b[0m\n\u001b[0;32m   1097\u001b[0m         ext \u001b[38;5;241m=\u001b[39m inspect_excel_format(\n\u001b[0;32m   1098\u001b[0m             content\u001b[38;5;241m=\u001b[39mpath_or_buffer, storage_options\u001b[38;5;241m=\u001b[39mstorage_options\n\u001b[0;32m   1099\u001b[0m         )\n\u001b[0;32m   1101\u001b[0m \u001b[38;5;28;01mif\u001b[39;00m ext \u001b[38;5;241m!=\u001b[39m \u001b[38;5;124m\"\u001b[39m\u001b[38;5;124mxls\u001b[39m\u001b[38;5;124m\"\u001b[39m \u001b[38;5;129;01mand\u001b[39;00m xlrd_version \u001b[38;5;241m>\u001b[39m\u001b[38;5;241m=\u001b[39m \u001b[38;5;124m\"\u001b[39m\u001b[38;5;124m2\u001b[39m\u001b[38;5;124m\"\u001b[39m:\n\u001b[1;32m-> 1102\u001b[0m     \u001b[38;5;28;01mraise\u001b[39;00m \u001b[38;5;167;01mValueError\u001b[39;00m(\n\u001b[0;32m   1103\u001b[0m         \u001b[38;5;124mf\u001b[39m\u001b[38;5;124m\"\u001b[39m\u001b[38;5;124mYour version of xlrd is \u001b[39m\u001b[38;5;132;01m{\u001b[39;00mxlrd_version\u001b[38;5;132;01m}\u001b[39;00m\u001b[38;5;124m. In xlrd >= 2.0, \u001b[39m\u001b[38;5;124m\"\u001b[39m\n\u001b[0;32m   1104\u001b[0m         \u001b[38;5;124mf\u001b[39m\u001b[38;5;124m\"\u001b[39m\u001b[38;5;124monly the xls format is supported. Install openpyxl instead.\u001b[39m\u001b[38;5;124m\"\u001b[39m\n\u001b[0;32m   1105\u001b[0m     )\n\u001b[0;32m   1106\u001b[0m \u001b[38;5;28;01melif\u001b[39;00m ext \u001b[38;5;241m!=\u001b[39m \u001b[38;5;124m\"\u001b[39m\u001b[38;5;124mxls\u001b[39m\u001b[38;5;124m\"\u001b[39m:\n\u001b[0;32m   1107\u001b[0m     caller \u001b[38;5;241m=\u001b[39m inspect\u001b[38;5;241m.\u001b[39mstack()[\u001b[38;5;241m1\u001b[39m]\n",
      "\u001b[1;31mValueError\u001b[0m: Your version of xlrd is 2.0.1. In xlrd >= 2.0, only the xls format is supported. Install openpyxl instead."
     ]
    }
   ],
   "source": [
    "# Importando Arquivo e carregando dados\n",
    "df = pd.read_excel(\"dados/Query1.xlsx\")\n"
   ]
  },
  {
   "cell_type": "code",
   "execution_count": null,
   "id": "58b36349-87bc-48b7-b757-279f62df72c0",
   "metadata": {},
   "outputs": [],
   "source": [
    "from unidecode import unidecode\n",
    "\n",
    "df.columns = [unidecode(col).replace(\" \", \"_\") for col in df.columns]\n"
   ]
  },
  {
   "cell_type": "code",
   "execution_count": null,
   "id": "7872795f-9331-460f-86c2-cd0048f2012a",
   "metadata": {},
   "outputs": [],
   "source": [
    "df.shape"
   ]
  },
  {
   "cell_type": "code",
   "execution_count": null,
   "id": "baa231ce-25a4-4b9c-8157-38e794b5b802",
   "metadata": {},
   "outputs": [],
   "source": [
    "df.head()"
   ]
  },
  {
   "cell_type": "code",
   "execution_count": null,
   "id": "cafadc71-290f-417f-b345-6667eddbd1d7",
   "metadata": {},
   "outputs": [],
   "source": [
    "df.info()"
   ]
  },
  {
   "cell_type": "code",
   "execution_count": null,
   "id": "d4a04294-f5ea-49a4-8d51-5f0f918ad324",
   "metadata": {},
   "outputs": [],
   "source": [
    "# We have null values ? nos temos valores ausentes no data . verdadeiro ou falso para valores ausentes \n",
    "df.isna().any()"
   ]
  },
  {
   "cell_type": "code",
   "execution_count": null,
   "id": "5ae358f9-5017-4935-8ab9-b859570b3478",
   "metadata": {},
   "outputs": [],
   "source": [
    "# Sum null values \" soma valores ausentes' \n",
    "df.isna().sum()\n"
   ]
  },
  {
   "cell_type": "markdown",
   "id": "1a67504d-ad14-4dc6-a5b8-bd737c232378",
   "metadata": {},
   "source": [
    "### Columns the Drop "
   ]
  },
  {
   "cell_type": "markdown",
   "id": "375572d4-6cc7-40fa-9ef0-5f598965f218",
   "metadata": {},
   "source": [
    "> Iremos remover a coluna ID , Observação gestor , Detalhes para aprovação ,Link do documento,Id \n",
    " > Segundo a dona dos dados tais informações não são relevantes Resp: Liliane Amanda!"
   ]
  },
  {
   "cell_type": "code",
   "execution_count": null,
   "id": "19323e8e-00d4-49e2-8cf3-f2cebeb925c7",
   "metadata": {},
   "outputs": [],
   "source": [
    "# Iremos remover a coluna ID pois se trata de um identificação pouco importante \n",
    "  # Drop deleta coluna \"CUSTOMER-ID\" axis eixo 1 inplace = a imputar exclucão no date set!  \n",
    "# Remover as colunas corretamente com os nomes ajustados\n",
    "df.drop([\"Observacao_Gestor\", \"Detalhes_para_aprovacao:\", \"Link_dos_documentos_da_negociacao\", \"ID\"], axis=1, inplace=True)\n"
   ]
  },
  {
   "cell_type": "code",
   "execution_count": null,
   "id": "8f4016ac-c648-4a60-9bf3-f339bb953f4e",
   "metadata": {},
   "outputs": [],
   "source": [
    "# Sum null values \" soma valores ausentes' \n",
    "df.isna().sum()"
   ]
  },
  {
   "cell_type": "markdown",
   "id": "96a5cd5a-9ebf-40b3-a03c-2041b63b8655",
   "metadata": {},
   "source": [
    "### Tratando Variavel Numero Sienge "
   ]
  },
  {
   "cell_type": "code",
   "execution_count": null,
   "id": "064b6ec6-ed42-414d-ba33-d3d7f2f02351",
   "metadata": {},
   "outputs": [],
   "source": [
    "print(df.columns)"
   ]
  },
  {
   "cell_type": "code",
   "execution_count": null,
   "id": "fec0421d-0408-4d33-8299-754179c3d3b2",
   "metadata": {},
   "outputs": [],
   "source": [
    "df.Numero_SIENGE.isnull().sum()"
   ]
  },
  {
   "cell_type": "code",
   "execution_count": null,
   "id": "5291ebc8-ef72-4028-b83d-a3f055143b55",
   "metadata": {},
   "outputs": [],
   "source": [
    "df.Numero_SIENGE.isnull().mean()*100"
   ]
  },
  {
   "cell_type": "code",
   "execution_count": null,
   "id": "50c68a79-2ccd-41f4-8d49-0ab1998ef328",
   "metadata": {},
   "outputs": [],
   "source": [
    "# Substitui valores NaN por 0 para evitar erro ao converter para int\n",
    "df[\"Numero_SIENGE\"] = df[\"Numero_SIENGE\"].fillna(0)\n",
    "\n",
    "# Converte a coluna para inteiro (removendo decimais)\n",
    "df[\"Numero_SIENGE\"] = df[\"Numero_SIENGE\"].astype(int)\n",
    "\n",
    "# Converte a coluna para string\n",
    "df[\"Numero_SIENGE\"] = df[\"Numero_SIENGE\"].astype(str)\n",
    "\n",
    "# Exibe as primeiras 40 linhas da coluna\n",
    "#print(df[\"Numero_SIENGE\"].head(40))"
   ]
  },
  {
   "cell_type": "code",
   "execution_count": null,
   "id": "04e8ef53-59e0-44bf-be88-b098a4e293b8",
   "metadata": {},
   "outputs": [],
   "source": [
    "# Porcentagem de valores ausentes na coluna Numero sienge valores foram subistiuidos por 0\n",
    "df.Numero_SIENGE.isnull().mean()*100"
   ]
  },
  {
   "cell_type": "code",
   "execution_count": null,
   "id": "ba7d8e33-1d5b-4b9f-9a8e-a3c1eaa111b6",
   "metadata": {},
   "outputs": [],
   "source": [
    "df.head()"
   ]
  },
  {
   "cell_type": "code",
   "execution_count": null,
   "id": "8c71dd9e-3e69-412e-b8db-3cae6037e62f",
   "metadata": {},
   "outputs": [],
   "source": [
    "df['Gestor_Responsavel'].value_counts().head(50)\n"
   ]
  },
  {
   "cell_type": "code",
   "execution_count": null,
   "id": "dd4a1f0d-f7ae-43e0-983d-35824a70432f",
   "metadata": {},
   "outputs": [],
   "source": [
    "df_gestores = df['Gestor_Responsavel'].value_counts().reset_index()\n",
    "df_gestores.columns = ['Gestor_Responsavel', 'Quantidade']"
   ]
  },
  {
   "cell_type": "code",
   "execution_count": null,
   "id": "9596c81c-ed00-4cd6-bcf1-95c7766df0f1",
   "metadata": {
    "jupyter": {
     "source_hidden": true
    }
   },
   "outputs": [],
   "source": [
    "import matplotlib.pyplot as plt\n",
    "import numpy as np\n",
    "\n",
    "# Criar DataFrame com contagem dos gestores\n",
    "df_gestores = df['Gestor_Responsavel'].value_counts().reset_index()\n",
    "df_gestores.columns = ['Gestor_Responsavel', 'Quantidade']\n",
    "\n",
    "# Gerar uma lista de cores para cada barra\n",
    "colors = plt.cm.get_cmap(\"tab20\", len(df_gestores))  # Usando uma paleta de 20 cores\n",
    "\n",
    "# Criar gráfico de barras\n",
    "plt.figure(figsize=(12, 6))\n",
    "bars = plt.bar(df_gestores['Gestor_Responsavel'], df_gestores['Quantidade'], color=colors(range(len(df_gestores))))\n",
    "\n",
    "# Adicionar linha da mediana\n",
    "plt.axhline(y=mediana, color='red', linestyle='--', label=f'Mediana: {mediana}')\n",
    "\n",
    "\n",
    "# Ajustar rótulos\n",
    "plt.xticks(rotation=45, ha='right')\n",
    "plt.ylabel('Frequência')\n",
    "plt.title('Quantidade de Ocorrências por Gestor Responsável')\n",
    "\n",
    "# Adicionar legenda\n",
    "plt.legend()\n",
    "\n",
    "# Mostrar gráfico\n",
    "plt.show()\n"
   ]
  },
  {
   "cell_type": "code",
   "execution_count": null,
   "id": "5bbc0964-7b88-49b5-a6e7-149fd1727a07",
   "metadata": {},
   "outputs": [],
   "source": [
    "df_copia = df.copy()"
   ]
  },
  {
   "cell_type": "code",
   "execution_count": null,
   "id": "a5efdc77-8c68-4592-a6cd-e29c3b7b0a7f",
   "metadata": {
    "jupyter": {
     "source_hidden": true
    }
   },
   "outputs": [],
   "source": [
    "# Primeiro, garantir que as colunas de valores estejam no formato numérico\n",
    "df['Valor_final_negociado'] = pd.to_numeric(df['Valor_final_negociado'], errors='coerce')\n",
    "df['Valor_final_Inicial_de_Cotacao'] = pd.to_numeric(df['Valor_Inicial_de_Cotacao'], errors='coerce')\n",
    "\n",
    "# Agrupar pelos gestores e somar os valores\n",
    "df_agrupado = df.groupby('Gestor_Responsavel')[['Valor_final_Inicial_de_Cotacao', 'Valor_final_negociado']].sum().reset_index()\n",
    "\n",
    "# Se necessário, reformatar as colunas após o agrupamento\n",
    "df_agrupado['Valor_final_negociado_formatado'] = df_agrupado['Valor_final_negociado'].apply(lambda x: f'{x:,.2f}')\n",
    "df_agrupado['Valor_final_Inicial_de_Cotacao_formatado'] = df_agrupado['Valor_final_Inicial_de_Cotacao'].apply(lambda x: f'{x:,.2f}')\n",
    "\n",
    "# Remover as colunas originais sem formatação\n",
    "df_agrupado.drop(columns=['Valor_final_negociado', 'Valor_final_Inicial_de_Cotacao'], inplace=True)\n",
    "\n"
   ]
  },
  {
   "cell_type": "markdown",
   "id": "8fcc8749-da58-4469-8e94-b387d8723da0",
   "metadata": {},
   "source": [
    "### Gerando Grafico de Linhas Para analizar!"
   ]
  },
  {
   "cell_type": "code",
   "execution_count": null,
   "id": "0a90120d-61ec-4e57-9984-68992133c54d",
   "metadata": {
    "jupyter": {
     "source_hidden": true
    }
   },
   "outputs": [],
   "source": [
    "import matplotlib.pyplot as plt\n",
    "import numpy as np\n",
    "\n",
    "# Ordenar os dados para o gráfico (você pode escolher a ordem desejada)\n",
    "df_agrupado_sorted = df_agrupado.sort_values(by='Valor_final_negociado_formatado')\n",
    "\n",
    "# Definir largura das barras\n",
    "bar_width = 0.35\n",
    "\n",
    "# Definir a posição das barras\n",
    "index = np.arange(len(df_agrupado_sorted))\n",
    "\n",
    "# Criar o gráfico de barras agrupadas\n",
    "plt.figure(figsize=(12, 6))\n",
    "plt.bar(index, df_agrupado_sorted['Valor_final_negociado_formatado'], bar_width, label='Valor Final Negociado', color='b')\n",
    "plt.bar(index + bar_width, df_agrupado_sorted['Valor_final_Inicial_de_Cotacao_formatado'], bar_width, label='Valor Final Cotação Inicial', color='g')\n",
    "\n",
    "# Adicionar título e rótulos\n",
    "plt.title('Comparação entre Valor Final Negociado e Valor Final Cotação Inicial por Gestor')\n",
    "plt.xlabel('Gestor Responsável')\n",
    "plt.ylabel('Valor (R$)')\n",
    "plt.xticks(index + bar_width / 2, df_agrupado_sorted['Gestor_Responsavel'], rotation=90)\n",
    "plt.legend()\n",
    "\n",
    "# Exibir o gráfico\n",
    "plt.tight_layout()\n",
    "plt.show()\n"
   ]
  },
  {
   "cell_type": "code",
   "execution_count": null,
   "id": "4e785392-2718-406e-b538-a0dd2c6a40f4",
   "metadata": {},
   "outputs": [],
   "source": [
    "print(df_agrupado_sorted[['Proficiencia', 'Diferença']].isna().sum())\n"
   ]
  },
  {
   "cell_type": "code",
   "execution_count": null,
   "id": "b48eea3c-692b-4f65-93b3-4ccc17616203",
   "metadata": {},
   "outputs": [],
   "source": [
    "\n",
    "#df_agrupado.to_csv('E:/ProgramacaoPhyton/DataScience02\\DashSiengeAqs/dados/df_agrupado.csv', index=False)\n"
   ]
  },
  {
   "cell_type": "code",
   "execution_count": null,
   "id": "c9d42792-3a95-4f6a-953d-ea679cf5603f",
   "metadata": {},
   "outputs": [],
   "source": []
  },
  {
   "cell_type": "code",
   "execution_count": null,
   "id": "1b1ce371-8cc5-4705-a59f-e4b7d0f8f0fe",
   "metadata": {},
   "outputs": [],
   "source": []
  }
 ],
 "metadata": {
  "kernelspec": {
   "display_name": "Python 3.8.8",
   "language": "python",
   "name": "py38"
  },
  "language_info": {
   "codemirror_mode": {
    "name": "ipython",
    "version": 3
   },
   "file_extension": ".py",
   "mimetype": "text/x-python",
   "name": "python",
   "nbconvert_exporter": "python",
   "pygments_lexer": "ipython3",
   "version": "3.8.20"
  }
 },
 "nbformat": 4,
 "nbformat_minor": 5
}
