{
 "cells": [
  {
   "cell_type": "markdown",
   "id": "8b4ee255-359b-493e-b27a-5f39b0c6664a",
   "metadata": {},
   "source": [
    "# <font color='Blue'>Análise de Dados com Linguagem Python</font>\n",
    "\n",
    "## <font color='blue'>Projeto Sienge Arqos</font>\n"
   ]
  },
  {
   "cell_type": "code",
   "execution_count": 118,
   "id": "c30e02de-3dc2-4e2b-a5fc-33197422042f",
   "metadata": {},
   "outputs": [],
   "source": [
    "# Imports\n",
    "import math\n",
    "import sys, os\n",
    "import matplotlib.pyplot as plt\n",
    "import numpy as np\n",
    "import pandas as pd\n",
    "import watermark \n",
    "import seaborn as sns\n",
    "import warnings\n",
    "warnings.filterwarnings(\"ignore\") "
   ]
  },
  {
   "cell_type": "code",
   "execution_count": 119,
   "id": "e5c40aea-3b0f-431b-b93a-e33b4d2ddb09",
   "metadata": {},
   "outputs": [],
   "source": [
    "sys.path.append(os.path.abspath(os.path.join('Modulos')))\n",
    "from estrategia1 import *\n",
    "from estrategia2 import *\n",
    "from estrategia3 import *"
   ]
  },
  {
   "cell_type": "code",
   "execution_count": 120,
   "id": "27fa4bac-8748-46b5-a5ee-f95f4d75ceb6",
   "metadata": {},
   "outputs": [],
   "source": [
    "!pip install -q xlrd"
   ]
  },
  {
   "cell_type": "code",
   "execution_count": 121,
   "id": "3070561a-4e7f-4ad2-a4a0-44ec90558365",
   "metadata": {},
   "outputs": [],
   "source": [
    "!pip install -q unidecode\n"
   ]
  },
  {
   "cell_type": "markdown",
   "id": "a6281d06-dfde-4e9b-a0ff-9138e51fa14e",
   "metadata": {},
   "source": [
    "## Carregando os Dados\n"
   ]
  },
  {
   "cell_type": "code",
   "execution_count": 123,
   "id": "b84ac913-9468-4bf4-85e2-1a9da5cb5076",
   "metadata": {},
   "outputs": [],
   "source": [
    "# Importando Arquivo e carregando dados\n",
    "df = pd.read_excel(\"dados/Query1.xlsx\")\n"
   ]
  },
  {
   "cell_type": "code",
   "execution_count": 124,
   "id": "58b36349-87bc-48b7-b757-279f62df72c0",
   "metadata": {},
   "outputs": [],
   "source": [
    "from unidecode import unidecode\n",
    "\n",
    "df.columns = [unidecode(col).replace(\" \", \"_\") for col in df.columns]\n"
   ]
  },
  {
   "cell_type": "code",
   "execution_count": 125,
   "id": "7872795f-9331-460f-86c2-cd0048f2012a",
   "metadata": {},
   "outputs": [
    {
     "data": {
      "text/plain": [
       "(1196, 20)"
      ]
     },
     "execution_count": 125,
     "metadata": {},
     "output_type": "execute_result"
    }
   ],
   "source": [
    "df.shape"
   ]
  },
  {
   "cell_type": "code",
   "execution_count": 126,
   "id": "baa231ce-25a4-4b9c-8157-38e794b5b802",
   "metadata": {},
   "outputs": [
    {
     "data": {
      "text/html": [
       "<div>\n",
       "<style scoped>\n",
       "    .dataframe tbody tr th:only-of-type {\n",
       "        vertical-align: middle;\n",
       "    }\n",
       "\n",
       "    .dataframe tbody tr th {\n",
       "        vertical-align: top;\n",
       "    }\n",
       "\n",
       "    .dataframe thead th {\n",
       "        text-align: right;\n",
       "    }\n",
       "</style>\n",
       "<table border=\"1\" class=\"dataframe\">\n",
       "  <thead>\n",
       "    <tr style=\"text-align: right;\">\n",
       "      <th></th>\n",
       "      <th>Status</th>\n",
       "      <th>Title</th>\n",
       "      <th>Comprador</th>\n",
       "      <th>Gestor_Responsavel</th>\n",
       "      <th>Departamento</th>\n",
       "      <th>Projeto</th>\n",
       "      <th>Numero_SIENGE</th>\n",
       "      <th>Valor_Inicial_de_Cotacao</th>\n",
       "      <th>Valor_final_negociado</th>\n",
       "      <th>Detalhes_para_aprovacao:</th>\n",
       "      <th>Link_dos_documentos_da_negociacao</th>\n",
       "      <th>Observacao_Gestor</th>\n",
       "      <th>Observacao_CEO</th>\n",
       "      <th>Tipo_de_Solicitacao</th>\n",
       "      <th>CTF_ou_Pedido_Sienge</th>\n",
       "      <th>Nome_do_Fornecedor</th>\n",
       "      <th>ID</th>\n",
       "      <th>Criado</th>\n",
       "      <th>Tipo_de_Item</th>\n",
       "      <th>Caminho</th>\n",
       "    </tr>\n",
       "  </thead>\n",
       "  <tbody>\n",
       "    <tr>\n",
       "      <th>0</th>\n",
       "      <td>Aprovado</td>\n",
       "      <td>ESTUDOS AMBIENTAIS - GDN CONSULTORIA</td>\n",
       "      <td>Liliane Silva</td>\n",
       "      <td>Ana Paula Minomo</td>\n",
       "      <td>INCORPORAÇÃO</td>\n",
       "      <td>HONORIO 4</td>\n",
       "      <td>51.0</td>\n",
       "      <td>11000.0</td>\n",
       "      <td>36500.0</td>\n",
       "      <td>REGULARIZAÇÃO DA CONTRATAÇÃO, \\nNEGOCIAÇÃO CON...</td>\n",
       "      <td>https://arqos365.sharepoint.com/:f:/s/arqos/Ep...</td>\n",
       "      <td>Ana Paula Minomoem2022-12-08T17:49:19Z:</td>\n",
       "      <td>Felipe Chukrem 2022-12-08T19:25:51Z</td>\n",
       "      <td>Regulariação</td>\n",
       "      <td>7400002.0</td>\n",
       "      <td>1058 - GDN SALVADOR CONSULTORIA</td>\n",
       "      <td>7</td>\n",
       "      <td>2022-10-31 06:21:41</td>\n",
       "      <td>Item</td>\n",
       "      <td>sites/arqos/Lists/Aprovaes de Suprimentos</td>\n",
       "    </tr>\n",
       "    <tr>\n",
       "      <th>1</th>\n",
       "      <td>Aprovado</td>\n",
       "      <td>LICENCIAMENTO AMBIENTAL - GDN CONSULTORIA</td>\n",
       "      <td>Liliane Silva</td>\n",
       "      <td>Ana Paula Minomo</td>\n",
       "      <td>INCORPORAÇÃO</td>\n",
       "      <td>GLK ALPHAVILLE</td>\n",
       "      <td>52.0</td>\n",
       "      <td>98500.0</td>\n",
       "      <td>98500.0</td>\n",
       "      <td>REGULARIZAÇÃO \\nSOLICITAÇÃO DE APROVAÇÃO JUNTO...</td>\n",
       "      <td>https://arqos365.sharepoint.com/:f:/s/arqos/Eq...</td>\n",
       "      <td>Ana Paula Minomoem2022-10-31T17:48:39Z:</td>\n",
       "      <td>Felipe Chukrem 2022-11-18T20:28:47Z</td>\n",
       "      <td>Regulariação</td>\n",
       "      <td>5200010.0</td>\n",
       "      <td>1058 - GDN SALVADOR CONSULTORIA</td>\n",
       "      <td>11</td>\n",
       "      <td>2022-10-31 10:47:21</td>\n",
       "      <td>Item</td>\n",
       "      <td>sites/arqos/Lists/Aprovaes de Suprimentos</td>\n",
       "    </tr>\n",
       "    <tr>\n",
       "      <th>2</th>\n",
       "      <td>Aprovado</td>\n",
       "      <td>DRENAGEM_LOTE 2 - RAMBLA</td>\n",
       "      <td>Liliane Silva</td>\n",
       "      <td>Werle Silva</td>\n",
       "      <td>LOTEAMENTO</td>\n",
       "      <td>72000 - PROJETO POLO L2</td>\n",
       "      <td>55.0</td>\n",
       "      <td>35000.0</td>\n",
       "      <td>25000.0</td>\n",
       "      <td>REGULARIZAÇÃO\\nSOLICITAÇÃO ANA PAULA - 07/10\\n...</td>\n",
       "      <td>https://arqos365.sharepoint.com/:f:/s/arqos/Eu...</td>\n",
       "      <td>Werle Silvaem 2022-10-31T21:05:22Z:Mesmo forne...</td>\n",
       "      <td>Felipe Chukrem 2022-10-31T21:06:04Z:</td>\n",
       "      <td>Regulariação</td>\n",
       "      <td>7100002.0</td>\n",
       "      <td>2859 - RAMBLA PROJETOS DE INFRAESTR. LTDA</td>\n",
       "      <td>12</td>\n",
       "      <td>2022-10-31 13:20:49</td>\n",
       "      <td>Item</td>\n",
       "      <td>sites/arqos/Lists/Aprovaes de Suprimentos</td>\n",
       "    </tr>\n",
       "    <tr>\n",
       "      <th>3</th>\n",
       "      <td>Aprovado</td>\n",
       "      <td>PROJETO DE ARQUITETURA LOTE 4 e 5 - AFLALO (RE...</td>\n",
       "      <td>Liliane Silva</td>\n",
       "      <td>Victoria Herendy</td>\n",
       "      <td>INCORPORAÇÃO</td>\n",
       "      <td>740 - Honório 4</td>\n",
       "      <td>45.0</td>\n",
       "      <td>1772000.0</td>\n",
       "      <td>2298500.0</td>\n",
       "      <td>-Aprovação Felipe - 13/10/2022 - Aflalo (R$1.6...</td>\n",
       "      <td>https://arqos365.sharepoint.com/:f:/s/arqos/Ek...</td>\n",
       "      <td>Victoria Herendyem2022-11-16T13:17:48Z:Vamos e...</td>\n",
       "      <td>Felipe Chukrem 2022-11-16T13:36:00Z</td>\n",
       "      <td>Regulariação</td>\n",
       "      <td>7400001.0</td>\n",
       "      <td>3057 - AFLALO E GASPERINI</td>\n",
       "      <td>13</td>\n",
       "      <td>2022-11-14 06:54:56</td>\n",
       "      <td>Item</td>\n",
       "      <td>sites/arqos/Lists/Aprovaes de Suprimentos</td>\n",
       "    </tr>\n",
       "    <tr>\n",
       "      <th>4</th>\n",
       "      <td>Aprovado</td>\n",
       "      <td>PROJETO PAISAGISMO - EMBYA - GLEBA K</td>\n",
       "      <td>Liliane Silva</td>\n",
       "      <td>Victoria Herendy</td>\n",
       "      <td>INCORPORAÇÃO</td>\n",
       "      <td>52010- INCORPORAÇÃO GLK</td>\n",
       "      <td>69.0</td>\n",
       "      <td>201000.0</td>\n",
       "      <td>218000.0</td>\n",
       "      <td>REGULARIZAÇÃO, ANA E VICTORIA APROVARAM O ESCO...</td>\n",
       "      <td>https://arqos365.sharepoint.com/:f:/s/arqos/En...</td>\n",
       "      <td>Victoria Herendyem2022-11-30T14:14:54Z:</td>\n",
       "      <td>Felipe Chukrem 2022-11-30T16:25:26Z</td>\n",
       "      <td>Regulariação</td>\n",
       "      <td>5200012.0</td>\n",
       "      <td>3092 - EMBYA PAISAGISMO, URB E ARQ LTDA</td>\n",
       "      <td>14</td>\n",
       "      <td>2022-11-14 14:42:48</td>\n",
       "      <td>Item</td>\n",
       "      <td>sites/arqos/Lists/Aprovaes de Suprimentos</td>\n",
       "    </tr>\n",
       "  </tbody>\n",
       "</table>\n",
       "</div>"
      ],
      "text/plain": [
       "     Status                                              Title      Comprador  \\\n",
       "0  Aprovado               ESTUDOS AMBIENTAIS - GDN CONSULTORIA  Liliane Silva   \n",
       "1  Aprovado          LICENCIAMENTO AMBIENTAL - GDN CONSULTORIA  Liliane Silva   \n",
       "2  Aprovado                           DRENAGEM_LOTE 2 - RAMBLA  Liliane Silva   \n",
       "3  Aprovado  PROJETO DE ARQUITETURA LOTE 4 e 5 - AFLALO (RE...  Liliane Silva   \n",
       "4  Aprovado               PROJETO PAISAGISMO - EMBYA - GLEBA K  Liliane Silva   \n",
       "\n",
       "  Gestor_Responsavel  Departamento                   Projeto  Numero_SIENGE  \\\n",
       "0   Ana Paula Minomo  INCORPORAÇÃO                 HONORIO 4           51.0   \n",
       "1   Ana Paula Minomo  INCORPORAÇÃO            GLK ALPHAVILLE           52.0   \n",
       "2        Werle Silva    LOTEAMENTO  72000 - PROJETO POLO L2            55.0   \n",
       "3   Victoria Herendy  INCORPORAÇÃO           740 - Honório 4           45.0   \n",
       "4   Victoria Herendy  INCORPORAÇÃO   52010- INCORPORAÇÃO GLK           69.0   \n",
       "\n",
       "   Valor_Inicial_de_Cotacao  Valor_final_negociado  \\\n",
       "0                   11000.0                36500.0   \n",
       "1                   98500.0                98500.0   \n",
       "2                   35000.0                25000.0   \n",
       "3                 1772000.0              2298500.0   \n",
       "4                  201000.0               218000.0   \n",
       "\n",
       "                            Detalhes_para_aprovacao:  \\\n",
       "0  REGULARIZAÇÃO DA CONTRATAÇÃO, \\nNEGOCIAÇÃO CON...   \n",
       "1  REGULARIZAÇÃO \\nSOLICITAÇÃO DE APROVAÇÃO JUNTO...   \n",
       "2  REGULARIZAÇÃO\\nSOLICITAÇÃO ANA PAULA - 07/10\\n...   \n",
       "3  -Aprovação Felipe - 13/10/2022 - Aflalo (R$1.6...   \n",
       "4  REGULARIZAÇÃO, ANA E VICTORIA APROVARAM O ESCO...   \n",
       "\n",
       "                   Link_dos_documentos_da_negociacao  \\\n",
       "0  https://arqos365.sharepoint.com/:f:/s/arqos/Ep...   \n",
       "1  https://arqos365.sharepoint.com/:f:/s/arqos/Eq...   \n",
       "2  https://arqos365.sharepoint.com/:f:/s/arqos/Eu...   \n",
       "3  https://arqos365.sharepoint.com/:f:/s/arqos/Ek...   \n",
       "4  https://arqos365.sharepoint.com/:f:/s/arqos/En...   \n",
       "\n",
       "                                   Observacao_Gestor  \\\n",
       "0            Ana Paula Minomoem2022-12-08T17:49:19Z:   \n",
       "1            Ana Paula Minomoem2022-10-31T17:48:39Z:   \n",
       "2  Werle Silvaem 2022-10-31T21:05:22Z:Mesmo forne...   \n",
       "3  Victoria Herendyem2022-11-16T13:17:48Z:Vamos e...   \n",
       "4            Victoria Herendyem2022-11-30T14:14:54Z:   \n",
       "\n",
       "                         Observacao_CEO Tipo_de_Solicitacao  \\\n",
       "0   Felipe Chukrem 2022-12-08T19:25:51Z        Regulariação   \n",
       "1   Felipe Chukrem 2022-11-18T20:28:47Z        Regulariação   \n",
       "2  Felipe Chukrem 2022-10-31T21:06:04Z:        Regulariação   \n",
       "3   Felipe Chukrem 2022-11-16T13:36:00Z        Regulariação   \n",
       "4   Felipe Chukrem 2022-11-30T16:25:26Z        Regulariação   \n",
       "\n",
       "   CTF_ou_Pedido_Sienge                         Nome_do_Fornecedor  ID  \\\n",
       "0             7400002.0            1058 - GDN SALVADOR CONSULTORIA   7   \n",
       "1             5200010.0            1058 - GDN SALVADOR CONSULTORIA  11   \n",
       "2             7100002.0  2859 - RAMBLA PROJETOS DE INFRAESTR. LTDA  12   \n",
       "3             7400001.0                  3057 - AFLALO E GASPERINI  13   \n",
       "4             5200012.0    3092 - EMBYA PAISAGISMO, URB E ARQ LTDA  14   \n",
       "\n",
       "               Criado Tipo_de_Item                                    Caminho  \n",
       "0 2022-10-31 06:21:41         Item  sites/arqos/Lists/Aprovaes de Suprimentos  \n",
       "1 2022-10-31 10:47:21         Item  sites/arqos/Lists/Aprovaes de Suprimentos  \n",
       "2 2022-10-31 13:20:49         Item  sites/arqos/Lists/Aprovaes de Suprimentos  \n",
       "3 2022-11-14 06:54:56         Item  sites/arqos/Lists/Aprovaes de Suprimentos  \n",
       "4 2022-11-14 14:42:48         Item  sites/arqos/Lists/Aprovaes de Suprimentos  "
      ]
     },
     "execution_count": 126,
     "metadata": {},
     "output_type": "execute_result"
    }
   ],
   "source": [
    "df.head()"
   ]
  },
  {
   "cell_type": "code",
   "execution_count": 127,
   "id": "cafadc71-290f-417f-b345-6667eddbd1d7",
   "metadata": {},
   "outputs": [
    {
     "name": "stdout",
     "output_type": "stream",
     "text": [
      "<class 'pandas.core.frame.DataFrame'>\n",
      "RangeIndex: 1196 entries, 0 to 1195\n",
      "Data columns (total 20 columns):\n",
      " #   Column                             Non-Null Count  Dtype         \n",
      "---  ------                             --------------  -----         \n",
      " 0   Status                             1196 non-null   object        \n",
      " 1   Title                              1196 non-null   object        \n",
      " 2   Comprador                          1196 non-null   object        \n",
      " 3   Gestor_Responsavel                 1196 non-null   object        \n",
      " 4   Departamento                       1196 non-null   object        \n",
      " 5   Projeto                            1194 non-null   object        \n",
      " 6   Numero_SIENGE                      770 non-null    float64       \n",
      " 7   Valor_Inicial_de_Cotacao           1196 non-null   float64       \n",
      " 8   Valor_final_negociado              1196 non-null   float64       \n",
      " 9   Detalhes_para_aprovacao:           1196 non-null   object        \n",
      " 10  Link_dos_documentos_da_negociacao  1196 non-null   object        \n",
      " 11  Observacao_Gestor                  1157 non-null   object        \n",
      " 12  Observacao_CEO                     1131 non-null   object        \n",
      " 13  Tipo_de_Solicitacao                1176 non-null   object        \n",
      " 14  CTF_ou_Pedido_Sienge               939 non-null    float64       \n",
      " 15  Nome_do_Fornecedor                 1192 non-null   object        \n",
      " 16  ID                                 1196 non-null   int64         \n",
      " 17  Criado                             1196 non-null   datetime64[ns]\n",
      " 18  Tipo_de_Item                       1196 non-null   object        \n",
      " 19  Caminho                            1196 non-null   object        \n",
      "dtypes: datetime64[ns](1), float64(4), int64(1), object(14)\n",
      "memory usage: 187.0+ KB\n"
     ]
    }
   ],
   "source": [
    "df.info()"
   ]
  },
  {
   "cell_type": "code",
   "execution_count": 128,
   "id": "d4a04294-f5ea-49a4-8d51-5f0f918ad324",
   "metadata": {},
   "outputs": [
    {
     "data": {
      "text/plain": [
       "Status                               False\n",
       "Title                                False\n",
       "Comprador                            False\n",
       "Gestor_Responsavel                   False\n",
       "Departamento                         False\n",
       "Projeto                               True\n",
       "Numero_SIENGE                         True\n",
       "Valor_Inicial_de_Cotacao             False\n",
       "Valor_final_negociado                False\n",
       "Detalhes_para_aprovacao:             False\n",
       "Link_dos_documentos_da_negociacao    False\n",
       "Observacao_Gestor                     True\n",
       "Observacao_CEO                        True\n",
       "Tipo_de_Solicitacao                   True\n",
       "CTF_ou_Pedido_Sienge                  True\n",
       "Nome_do_Fornecedor                    True\n",
       "ID                                   False\n",
       "Criado                               False\n",
       "Tipo_de_Item                         False\n",
       "Caminho                              False\n",
       "dtype: bool"
      ]
     },
     "execution_count": 128,
     "metadata": {},
     "output_type": "execute_result"
    }
   ],
   "source": [
    "# We have null values ? nos temos valores ausentes no data . verdadeiro ou falso para valores ausentes \n",
    "df.isna().any()"
   ]
  },
  {
   "cell_type": "code",
   "execution_count": 129,
   "id": "5ae358f9-5017-4935-8ab9-b859570b3478",
   "metadata": {},
   "outputs": [
    {
     "data": {
      "text/plain": [
       "Status                                 0\n",
       "Title                                  0\n",
       "Comprador                              0\n",
       "Gestor_Responsavel                     0\n",
       "Departamento                           0\n",
       "Projeto                                2\n",
       "Numero_SIENGE                        426\n",
       "Valor_Inicial_de_Cotacao               0\n",
       "Valor_final_negociado                  0\n",
       "Detalhes_para_aprovacao:               0\n",
       "Link_dos_documentos_da_negociacao      0\n",
       "Observacao_Gestor                     39\n",
       "Observacao_CEO                        65\n",
       "Tipo_de_Solicitacao                   20\n",
       "CTF_ou_Pedido_Sienge                 257\n",
       "Nome_do_Fornecedor                     4\n",
       "ID                                     0\n",
       "Criado                                 0\n",
       "Tipo_de_Item                           0\n",
       "Caminho                                0\n",
       "dtype: int64"
      ]
     },
     "execution_count": 129,
     "metadata": {},
     "output_type": "execute_result"
    }
   ],
   "source": [
    "# Sum null values \" soma valores ausentes' \n",
    "df.isna().sum()\n"
   ]
  },
  {
   "cell_type": "markdown",
   "id": "1a67504d-ad14-4dc6-a5b8-bd737c232378",
   "metadata": {},
   "source": [
    "### Columns the Drop "
   ]
  },
  {
   "cell_type": "markdown",
   "id": "375572d4-6cc7-40fa-9ef0-5f598965f218",
   "metadata": {},
   "source": [
    "> Iremos remover a coluna ID , Observação gestor , Detalhes para aprovação ,Link do documento,Id \n",
    " > Segundo a dona dos dados tais informações não são relevantes Resp: Liliane Amanda!"
   ]
  },
  {
   "cell_type": "code",
   "execution_count": 208,
   "id": "19323e8e-00d4-49e2-8cf3-f2cebeb925c7",
   "metadata": {},
   "outputs": [],
   "source": [
    "# Iremos remover a coluna ID pois se trata de um identificação pouco importante \n",
    "  # Drop deleta coluna \"CUSTOMER-ID\" axis eixo 1 inplace = a imputar exclucão no date set!  \n",
    "# Remover as colunas corretamente com os nomes ajustados\n",
    "df.drop([\"Observacao_Gestor\", \"Detalhes_para_aprovacao:\", \"Link_dos_documentos_da_negociacao\", \"ID\"], axis=1, inplace=True)\n"
   ]
  },
  {
   "cell_type": "code",
   "execution_count": 210,
   "id": "8f4016ac-c648-4a60-9bf3-f339bb953f4e",
   "metadata": {},
   "outputs": [
    {
     "data": {
      "text/plain": [
       "Status                        0\n",
       "Title                         0\n",
       "Comprador                     0\n",
       "Gestor_Responsavel            0\n",
       "Departamento                  0\n",
       "Projeto                       2\n",
       "Numero_SIENGE                 0\n",
       "Valor_Inicial_de_Cotacao      0\n",
       "Valor_final_negociado         0\n",
       "Observacao_CEO               65\n",
       "Tipo_de_Solicitacao          20\n",
       "CTF_ou_Pedido_Sienge        257\n",
       "Nome_do_Fornecedor            4\n",
       "Criado                        0\n",
       "Tipo_de_Item                  0\n",
       "Caminho                       0\n",
       "dtype: int64"
      ]
     },
     "execution_count": 210,
     "metadata": {},
     "output_type": "execute_result"
    }
   ],
   "source": [
    "# Sum null values \" soma valores ausentes' \n",
    "df.isna().sum()"
   ]
  },
  {
   "cell_type": "markdown",
   "id": "96a5cd5a-9ebf-40b3-a03c-2041b63b8655",
   "metadata": {},
   "source": [
    "### Tratando Variavel Numero Sienge "
   ]
  },
  {
   "cell_type": "code",
   "execution_count": 212,
   "id": "064b6ec6-ed42-414d-ba33-d3d7f2f02351",
   "metadata": {},
   "outputs": [
    {
     "name": "stdout",
     "output_type": "stream",
     "text": [
      "Index(['Status', 'Title', 'Comprador', 'Gestor_Responsavel', 'Departamento',\n",
      "       'Projeto', 'Numero_SIENGE', 'Valor_Inicial_de_Cotacao',\n",
      "       'Valor_final_negociado', 'Observacao_CEO', 'Tipo_de_Solicitacao',\n",
      "       'CTF_ou_Pedido_Sienge', 'Nome_do_Fornecedor', 'Criado', 'Tipo_de_Item',\n",
      "       'Caminho'],\n",
      "      dtype='object')\n"
     ]
    }
   ],
   "source": [
    "print(df.columns)"
   ]
  },
  {
   "cell_type": "code",
   "execution_count": 214,
   "id": "fec0421d-0408-4d33-8299-754179c3d3b2",
   "metadata": {},
   "outputs": [
    {
     "data": {
      "text/plain": [
       "0"
      ]
     },
     "execution_count": 214,
     "metadata": {},
     "output_type": "execute_result"
    }
   ],
   "source": [
    "df.Numero_SIENGE.isnull().sum()"
   ]
  },
  {
   "cell_type": "code",
   "execution_count": 216,
   "id": "5291ebc8-ef72-4028-b83d-a3f055143b55",
   "metadata": {},
   "outputs": [
    {
     "data": {
      "text/plain": [
       "0.0"
      ]
     },
     "execution_count": 216,
     "metadata": {},
     "output_type": "execute_result"
    }
   ],
   "source": [
    "df.Numero_SIENGE.isnull().mean()*100"
   ]
  },
  {
   "cell_type": "code",
   "execution_count": 218,
   "id": "50c68a79-2ccd-41f4-8d49-0ab1998ef328",
   "metadata": {},
   "outputs": [],
   "source": [
    "# Substitui valores NaN por 0 para evitar erro ao converter para int\n",
    "df[\"Numero_SIENGE\"] = df[\"Numero_SIENGE\"].fillna(0)\n",
    "\n",
    "# Converte a coluna para inteiro (removendo decimais)\n",
    "df[\"Numero_SIENGE\"] = df[\"Numero_SIENGE\"].astype(int)\n",
    "\n",
    "# Converte a coluna para string\n",
    "df[\"Numero_SIENGE\"] = df[\"Numero_SIENGE\"].astype(str)\n",
    "\n",
    "# Exibe as primeiras 40 linhas da coluna\n",
    "#print(df[\"Numero_SIENGE\"].head(40))"
   ]
  },
  {
   "cell_type": "code",
   "execution_count": 223,
   "id": "04e8ef53-59e0-44bf-be88-b098a4e293b8",
   "metadata": {},
   "outputs": [
    {
     "data": {
      "text/plain": [
       "0.0"
      ]
     },
     "execution_count": 223,
     "metadata": {},
     "output_type": "execute_result"
    }
   ],
   "source": [
    "# Porcentagem de valores ausentes na coluna Numero sienge valores foram subistiuidos por 0\n",
    "df.Numero_SIENGE.isnull().mean()*100"
   ]
  },
  {
   "cell_type": "code",
   "execution_count": null,
   "id": "ba7d8e33-1d5b-4b9f-9a8e-a3c1eaa111b6",
   "metadata": {},
   "outputs": [],
   "source": []
  },
  {
   "cell_type": "code",
   "execution_count": null,
   "id": "8c71dd9e-3e69-412e-b8db-3cae6037e62f",
   "metadata": {},
   "outputs": [],
   "source": []
  }
 ],
 "metadata": {
  "kernelspec": {
   "display_name": "Python [conda env:meu_ambiente]",
   "language": "python",
   "name": "conda-env-meu_ambiente-py"
  },
  "language_info": {
   "codemirror_mode": {
    "name": "ipython",
    "version": 3
   },
   "file_extension": ".py",
   "mimetype": "text/x-python",
   "name": "python",
   "nbconvert_exporter": "python",
   "pygments_lexer": "ipython3",
   "version": "3.8.20"
  }
 },
 "nbformat": 4,
 "nbformat_minor": 5
}
